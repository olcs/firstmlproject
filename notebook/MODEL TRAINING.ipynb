{
 "cells": [],
 "metadata": {
  "kernelspec": {
   "display_name": "mlproject",
   "language": "python",
   "name": "python3"
  },
  "language_info": {
   "name": "python",
   "version": "3.10.6 (main, Mar 10 2023, 10:55:28) [GCC 11.3.0]"
  },
  "orig_nbformat": 4,
  "vscode": {
   "interpreter": {
    "hash": "826e0616be7f4614dd338837175b07992479cf0e151d47f9f256e34cc6887b5c"
   }
  }
 },
 "nbformat": 4,
 "nbformat_minor": 2
}
